{
 "cells": [
  {
   "cell_type": "code",
   "execution_count": 1,
   "id": "e9c76e17-f973-4f5c-b8c8-a99ec76c5578",
   "metadata": {},
   "outputs": [
    {
     "name": "stderr",
     "output_type": "stream",
     "text": [
      "2025-03-08 08:43:28.383391: I external/local_tsl/tsl/cuda/cudart_stub.cc:31] Could not find cuda drivers on your machine, GPU will not be used.\n",
      "2025-03-08 08:43:30.848748: E external/local_xla/xla/stream_executor/cuda/cuda_dnn.cc:9261] Unable to register cuDNN factory: Attempting to register factory for plugin cuDNN when one has already been registered\n",
      "2025-03-08 08:43:30.848858: E external/local_xla/xla/stream_executor/cuda/cuda_fft.cc:607] Unable to register cuFFT factory: Attempting to register factory for plugin cuFFT when one has already been registered\n",
      "2025-03-08 08:43:30.851286: E external/local_xla/xla/stream_executor/cuda/cuda_blas.cc:1515] Unable to register cuBLAS factory: Attempting to register factory for plugin cuBLAS when one has already been registered\n",
      "2025-03-08 08:43:30.863516: I external/local_tsl/tsl/cuda/cudart_stub.cc:31] Could not find cuda drivers on your machine, GPU will not be used.\n",
      "2025-03-08 08:43:30.866239: I tensorflow/core/platform/cpu_feature_guard.cc:182] This TensorFlow binary is optimized to use available CPU instructions in performance-critical operations.\n",
      "To enable the following instructions: AVX2 FMA, in other operations, rebuild TensorFlow with the appropriate compiler flags.\n",
      "2025-03-08 08:43:35.109518: W tensorflow/compiler/tf2tensorrt/utils/py_utils.cc:38] TF-TRT Warning: Could not find TensorRT\n",
      "/cmnfs/home/students/m.celimli/miniconda3/envs/dev_env_mehmet/lib/python3.10/site-packages/tqdm/auto.py:21: TqdmWarning: IProgress not found. Please update jupyter and ipywidgets. See https://ipywidgets.readthedocs.io/en/stable/user_install.html\n",
      "  from .autonotebook import tqdm as notebook_tqdm\n"
     ]
    },
    {
     "name": "stdout",
     "output_type": "stream",
     "text": [
      "\n",
      "Avaliable feature extractors are (use the key of the following dict and pass it to features_to_extract in the Dataset Class):\n",
      "{\n",
      "   \"atom_count\": \"Atom count of PTM.\",\n",
      "   \"delta_mass\": \"Delta mass of PTM.\",\n",
      "   \"mod_gain\": \"Gain of atoms due to PTM.\",\n",
      "   \"mod_loss\": \"Loss of atoms due to PTM.\",\n",
      "   \"red_smiles\": \"Reduced SMILES representation of PTM.\"\n",
      "}.\n",
      "When writing your own feature extractor, you can either\n",
      "    (1) use the FeatureExtractor class or\n",
      "    (2) write a function that can be mapped to the Hugging Face dataset.\n",
      "In both cases, you can access the parsed sequence information from the dataset using the following keys, which all provide python lists:\n",
      "    - _parsed_sequence: parsed sequence\n",
      "    - _n_term_mods: N-terminal modifications\n",
      "    - _c_term_mods: C-terminal modifications\n",
      "\n"
     ]
    },
    {
     "name": "stderr",
     "output_type": "stream",
     "text": [
      "/cmnfs/home/students/m.celimli/miniconda3/envs/dev_env_mehmet/lib/python3.10/site-packages/numba/np/ufunc/dufunc.py:344: NumbaWarning: Compilation requested for previously compiled argument types ((uint32,)). This has no effect and perhaps indicates a bug in the calling code (compiling a ufunc more than once for the same signature\n",
      "  warnings.warn(msg, errors.NumbaWarning)\n",
      "/cmnfs/home/students/m.celimli/miniconda3/envs/dev_env_mehmet/lib/python3.10/site-packages/numba/np/ufunc/dufunc.py:344: NumbaWarning: Compilation requested for previously compiled argument types ((uint32,)). This has no effect and perhaps indicates a bug in the calling code (compiling a ufunc more than once for the same signature\n",
      "  warnings.warn(msg, errors.NumbaWarning)\n",
      "/cmnfs/home/students/m.celimli/miniconda3/envs/dev_env_mehmet/lib/python3.10/site-packages/numba/np/ufunc/dufunc.py:344: NumbaWarning: Compilation requested for previously compiled argument types ((uint32,)). This has no effect and perhaps indicates a bug in the calling code (compiling a ufunc more than once for the same signature\n",
      "  warnings.warn(msg, errors.NumbaWarning)\n"
     ]
    }
   ],
   "source": [
    "from get_embeddings_from_model import extract_embeddings, get_proteometools_data\n",
    "from pipeline.umap_reducer import UMAPReducer\n",
    "from config import config\n",
    "import pandas as pd\n",
    "import os\n",
    "import numpy as np\n",
    "%load_ext autoreload\n",
    "%autoreload 2"
   ]
  },
  {
   "cell_type": "code",
   "execution_count": 2,
   "id": "01280e5f-2211-4c0e-85b7-1c6b4d708dbd",
   "metadata": {},
   "outputs": [
    {
     "data": {
      "text/plain": [
       "{'data': {'filename': '/cmnfs/proj/prosit/Transformer/no_aug_no_mod_train.parquet',\n",
       "  'nrows': None,\n",
       "  'column_name': 'intensities_raw'},\n",
       " 'umap': {'n_components': 30,\n",
       "  'n_neighbors': 5,\n",
       "  'min_dist': 0.1,\n",
       "  'metric': 'euclidean',\n",
       "  'embedding_file': None},\n",
       " 'hdbscan': {'min_cluster_size': 3,\n",
       "  'min_samples': None,\n",
       "  'metric': 'euclidean',\n",
       "  'cluster_selection_epsilon': 0.1,\n",
       "  'cluster_selection_method': 'eom',\n",
       "  'max_cluster_size': 100,\n",
       "  'min_desired_clusters': 1000000,\n",
       "  'subclustering_min_cluster_size': 5,\n",
       "  'subclustering_cluster_selection_epsilon': 0.1},\n",
       " 'knn': {'k': 3, 'use_sqrt': True},\n",
       " 'sparse_hdbscan': {'min_cluster_size': 3},\n",
       " 'leiden': {'resolution': 5.0},\n",
       " 'sparse_dbscan': {'eps': 0.1, 'min_samples': 3}}"
      ]
     },
     "execution_count": 2,
     "metadata": {},
     "output_type": "execute_result"
    }
   ],
   "source": [
    "config"
   ]
  },
  {
   "cell_type": "code",
   "execution_count": 3,
   "id": "b4624545-9dcf-42a2-8245-eb6f438a727c",
   "metadata": {},
   "outputs": [],
   "source": [
    "modal_embeddings = np.load(\"embeddings/train_dedup_embeddings_from_model.npy\")"
   ]
  },
  {
   "cell_type": "code",
   "execution_count": 4,
   "id": "eae00858-9554-4dd2-9d01-a2db105a4fc1",
   "metadata": {},
   "outputs": [
    {
     "data": {
      "text/plain": [
       "(4381253, 30)"
      ]
     },
     "execution_count": 4,
     "metadata": {},
     "output_type": "execute_result"
    }
   ],
   "source": [
    "np.shape(modal_embeddings)"
   ]
  },
  {
   "cell_type": "code",
   "execution_count": null,
   "id": "6d6afe52-eb7e-44c2-be9e-acba6d2ebfe1",
   "metadata": {},
   "outputs": [],
   "source": [
    "# umap_reducer = UMAPReducer(\n",
    "#     n_components=20,\n",
    "#     n_neighbors=config[\"umap\"][\"n_neighbors\"],\n",
    "#     min_dist=config[\"umap\"][\"min_dist\"],\n",
    "#     metric=\"euclidean\",\n",
    "#     embedding_file = None\n",
    "# )"
   ]
  },
  {
   "cell_type": "code",
   "execution_count": 7,
   "id": "a69ab31a-136e-4ff1-a907-70b07195c24f",
   "metadata": {},
   "outputs": [
    {
     "name": "stderr",
     "output_type": "stream",
     "text": [
      "/cmnfs/home/students/m.celimli/miniconda3/envs/dev_env_mehmet/lib/python3.10/site-packages/sklearn/utils/deprecation.py:151: FutureWarning: 'force_all_finite' was renamed to 'ensure_all_finite' in 1.6 and will be removed in 1.8.\n",
      "  warnings.warn(\n",
      "/cmnfs/home/students/m.celimli/miniconda3/envs/dev_env_mehmet/lib/python3.10/site-packages/umap/spectral.py:548: UserWarning: Spectral initialisation failed! The eigenvector solver\n",
      "failed. This is likely due to too small an eigengap. Consider\n",
      "adding some noise or jitter to your data.\n",
      "\n",
      "Falling back to random initialisation!\n",
      "  warn(\n"
     ]
    }
   ],
   "source": [
    "# modal_embeddings_20d = umap_reducer.reduce(modal_embeddings)"
   ]
  },
  {
   "cell_type": "code",
   "execution_count": 5,
   "id": "c4bd665d-830c-4660-9248-0f41a3fdc900",
   "metadata": {},
   "outputs": [],
   "source": [
    "umap_reducer = UMAPReducer(\n",
    "    n_components=2,\n",
    "    n_neighbors=config[\"umap\"][\"n_neighbors\"],\n",
    "    min_dist=config[\"umap\"][\"min_dist\"],\n",
    "    metric=\"euclidean\",\n",
    "    embedding_file = None\n",
    ")"
   ]
  },
  {
   "cell_type": "code",
   "execution_count": null,
   "id": "944c4c38-8541-4cb3-a086-23f8f86381bb",
   "metadata": {},
   "outputs": [
    {
     "name": "stderr",
     "output_type": "stream",
     "text": [
      "/cmnfs/home/students/m.celimli/miniconda3/envs/dev_env_mehmet/lib/python3.10/site-packages/sklearn/utils/deprecation.py:151: FutureWarning: 'force_all_finite' was renamed to 'ensure_all_finite' in 1.6 and will be removed in 1.8.\n",
      "  warnings.warn(\n"
     ]
    }
   ],
   "source": [
    "modal_embeddings_2d = umap_reducer.reduce(modal_embeddings)"
   ]
  },
  {
   "cell_type": "code",
   "execution_count": null,
   "id": "dabc26bb-d355-4889-899e-caa48af8795d",
   "metadata": {},
   "outputs": [],
   "source": [
    "np.shape(modal_embeddings_2d)"
   ]
  },
  {
   "cell_type": "code",
   "execution_count": null,
   "id": "3adc1b8e-33b6-4864-a374-6bf12ef1ff8a",
   "metadata": {},
   "outputs": [],
   "source": [
    "np.save(\"embeddings/train_dedup_embeddings_from_model_2_euclidean.npy\", modal_embeddings_2d)\n"
   ]
  },
  {
   "cell_type": "code",
   "execution_count": 12,
   "id": "873bc626-8a51-40ae-99cd-9ed9b14edf80",
   "metadata": {},
   "outputs": [],
   "source": [
    "np.save(\"embeddings/train_dedup_embeddings_from_model_20_euclidean.npy\", modal_embeddings_20d)\n"
   ]
  },
  {
   "cell_type": "code",
   "execution_count": null,
   "id": "25242218-f6bd-439c-8146-e9b4d8437bda",
   "metadata": {},
   "outputs": [],
   "source": []
  }
 ],
 "metadata": {
  "kernelspec": {
   "display_name": "Python 3 (ipykernel)",
   "language": "python",
   "name": "python3"
  },
  "language_info": {
   "codemirror_mode": {
    "name": "ipython",
    "version": 3
   },
   "file_extension": ".py",
   "mimetype": "text/x-python",
   "name": "python",
   "nbconvert_exporter": "python",
   "pygments_lexer": "ipython3",
   "version": "3.10.16"
  }
 },
 "nbformat": 4,
 "nbformat_minor": 5
}
